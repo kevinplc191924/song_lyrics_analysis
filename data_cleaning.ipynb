{
 "cells": [
  {
   "cell_type": "markdown",
   "id": "e5320d8f",
   "metadata": {},
   "source": [
    "# Data cleaning"
   ]
  },
  {
   "cell_type": "code",
   "execution_count": 57,
   "id": "4d7deb75",
   "metadata": {},
   "outputs": [
    {
     "name": "stdout",
     "output_type": "stream",
     "text": [
      "<class 'pandas.core.frame.DataFrame'>\n",
      "RangeIndex: 20 entries, 0 to 19\n",
      "Data columns (total 7 columns):\n",
      " #   Column        Non-Null Count  Dtype \n",
      "---  ------        --------------  ----- \n",
      " 0   artist        20 non-null     object\n",
      " 1   title         20 non-null     object\n",
      " 2   release_date  20 non-null     object\n",
      " 3   pageviews     20 non-null     int64 \n",
      " 4   album         20 non-null     object\n",
      " 5   lyrics        20 non-null     object\n",
      " 6   language      20 non-null     object\n",
      "dtypes: int64(1), object(6)\n",
      "memory usage: 1.2+ KB\n",
      "None\n"
     ]
    }
   ],
   "source": [
    "import pandas as pd\n",
    "\n",
    "sin_bandera = pd.read_csv('data/sin_bandera.csv')\n",
    "sin_bandera['language'] = 'Spanish'\n",
    "loveless = pd.read_csv('data/loveless.csv')\n",
    "loveless['language'] = 'English'\n",
    "\n",
    "songs = pd.concat([sin_bandera, loveless], ignore_index=True)\n",
    "print(songs.info())"
   ]
  },
  {
   "cell_type": "markdown",
   "id": "e6b54de1",
   "metadata": {},
   "source": [
    "## Processing the lyrics\n",
    "The process of song lyrics focuses on removing punctuaction and non-informative words. The first filter consisted in using regular expressions on the text formated as lower to remove expressions similar to 'ah', 'oh' or 'mm' and then to keep only words in Spanish and English.\n",
    "\n",
    "The second step used `nltk` (Natural Language Toolkit), a library used for working with humane language data, capable of removing words that don't carry significant meaning through its predefined list of `stopwords`. Examples are 'the', 'is', 'es', 'un' and similar.\n",
    "\n",
    "The defined function, `clean_lyrics`, takes raw `text` and `language` as arguments and performs the cleaning, also removing words with less than 3 letters as a final filter before returning the final result."
   ]
  },
  {
   "cell_type": "code",
   "execution_count": null,
   "id": "7e8daa4b",
   "metadata": {},
   "outputs": [
    {
     "name": "stdout",
     "output_type": "stream",
     "text": [
      "contributorsentra vida lyrics buenas noches gusto chica después cinco minutos alguien especial hablarme tocarme dentro encendió ojos hacía tarde olvidaba reloj días lado enseñaron verdad tiempo determinado comenzar amar siento tan profundo explicación razón lógica corazón entra vida abro puerta brazos noches desiertas entra vida ruego comencé extrañar empecé necesitarte luego buenas noches gusto existe nadie después tiempo juntos puedo volver atrás hablaste tocaste volviste ilusión quiero dueña corazón entra vida abro puerta brazos noches desiertas entra vida ruego comencé extrañar empecé necesitarte luego entra horas sálvame ahora abre brazos fuerte déjame entrar entra vida abro puerta brazos noches desiertas noches desiertas entra vida ruego ruego comencé extrañar empecé necesitarte luego comencé extrañar empecé necesitarte luego\n"
     ]
    }
   ],
   "source": [
    "import re\n",
    "from nltk.corpus import stopwords\n",
    "\n",
    "# Process the lyrics with regular expressions and stopwords from nltk\n",
    "# Run nltk.download('stopwords') once before calling the function and \n",
    "# when using nltk for the first time, not needed again.\n",
    "def clean_lyrics(text, language='Spanish'):\n",
    "    # Remove expressions similar to 'oh'\n",
    "    text = re.sub(r'\\b([oaeui][h]?|la|na|mm|ja)\\1+\\b', '', text.lower())\n",
    "    # Keep only letters and spaces (accents included)\n",
    "    text = re.sub(r'[^\\w\\sáéíóúüñ]', ' ', text)\n",
    "\n",
    "    if language == 'Spanish':\n",
    "        stops = set(stopwords.words('spanish') + ['yeah', 'yeh'])\n",
    "    else:\n",
    "        stops = set(stopwords.words('english') + ['yeah','mmh', 'bam', 'ooh'])\n",
    "    \n",
    "    words = [w for w in text.split() if w not in stops and len(w) > 2]\n",
    "    \n",
    "    return ' '.join(words)\n",
    "\n",
    "songs['clean_lyrics'] = songs.apply(lambda row: clean_lyrics(row['lyrics'], language=row['language']), axis=1)\n",
    "\n",
    "print(songs['clean_lyrics'][0])"
   ]
  },
  {
   "cell_type": "markdown",
   "id": "dc7d4a84",
   "metadata": {},
   "source": [
    "## Removing some undesired info"
   ]
  },
  {
   "cell_type": "markdown",
   "id": "f0a923a1",
   "metadata": {},
   "source": [
    "Information like the title and a brief description of the artist and the song is present in lyrics and it's not completely removed by the application of the previous function. For example, the last output has the following text in the beggining: \"contributorsentra vida lyrics\". After reviewing the outputs for other songs, I identified a repetitive pattern where the desired lyric always started after the word \"lyrics\". The function below removes the text that is before that word. "
   ]
  },
  {
   "cell_type": "code",
   "execution_count": null,
   "id": "29bdc7c2",
   "metadata": {},
   "outputs": [],
   "source": [
    "# A function to isolate 'lyrics' and delete what is before\n",
    "def after_lyrics(text):\n",
    "    '''\n",
    "    Some undesired information is still present in the values returned by clean_lyrics.\n",
    "    A repetitive pattern exist in them, where the desired lyric always starts after the word \"lyrics\".\n",
    "    \"lyrics\" can be a single word or be present in an expression like \"otherwordlyrics\", so regex is useful.\n",
    "    This function removes what is before that word, including that word.\n",
    "    '''\n",
    "    split = text.split()\n",
    "    required_index = 0\n",
    "        \n",
    "    for expression in split:\n",
    "        # Search if pattern exists anywhere\n",
    "        if re.search(r'lyrics', expression):\n",
    "            required_index = split.index(expression)\n",
    "        \n",
    "    # Update the expression\n",
    "    split[required_index] = 'lyrics'\n",
    "    # Get the index to ignore what is before\n",
    "    get_index = split.index('lyrics')\n",
    "    return ' '.join(split[get_index + 1:])"
   ]
  },
  {
   "cell_type": "code",
   "execution_count": null,
   "id": "1912439e",
   "metadata": {},
   "outputs": [
    {
     "name": "stdout",
     "output_type": "stream",
     "text": [
      "buenas noches gusto\n",
      "buenas noches gusto\n"
     ]
    }
   ],
   "source": [
    "# Improved version\n",
    "t = 'contributorsentra vida lyrics buenas noches gusto'\n",
    "t2 = 'contributorsentra vida thelyrics buenas noches gusto'\n",
    "\n",
    "def after_lyrics(text):\n",
    "    split = text.split()\n",
    "        \n",
    "    for expression in split:\n",
    "        # Search if pattern exists anywhere\n",
    "        if re.search(r'lyrics', expression):\n",
    "            # Get the index to ignore what is before\n",
    "            get_index = split.index(expression) \n",
    "            return ' '.join(split[get_index + 1:])\n",
    "    \n",
    "    return ' '.join(split)\n",
    "\n",
    "print(after_lyrics(t))\n",
    "print(after_lyrics(t2))"
   ]
  },
  {
   "cell_type": "code",
   "execution_count": 60,
   "id": "f8b55b42",
   "metadata": {},
   "outputs": [
    {
     "name": "stdout",
     "output_type": "stream",
     "text": [
      "called drunk benz driving home influence scared death wasting breath cause listen fucking friends relate relate cause never treat shitty made hate city talk shit internet never told anyone anything bad cause shit embarrassing everything make fucking sad waste time try make feel bad could talk every time showed time empty line cause never never paid mind mother friends shut cause kid ruined everything good always said misunderstood made moments fucking leave alone relate relate cause never treat shitty make hate city\n"
     ]
    }
   ],
   "source": [
    "# Remove the titles and words before 'lyrics'\n",
    "songs['clean_lyrics'] = songs['clean_lyrics'].apply(after_lyrics)\n",
    "print(songs['clean_lyrics'].iloc[-1])"
   ]
  },
  {
   "cell_type": "markdown",
   "id": "82e3bc1e",
   "metadata": {},
   "source": [
    "## Replacing a word with its synonym"
   ]
  },
  {
   "cell_type": "markdown",
   "id": "099019db",
   "metadata": {},
   "source": [
    "The Spanish word \"tal vez\" can be interpreted as two separated words, causing problems with further analysis like word frequencies. The approach here consisted in replacing the term with a synonym, \"quizás\", only for the Spanish lyrics."
   ]
  },
  {
   "cell_type": "code",
   "execution_count": null,
   "id": "a01bb093",
   "metadata": {},
   "outputs": [
    {
     "name": "stdout",
     "output_type": "stream",
     "text": [
      "['tal', 'vez', 'si', 'tal', 'vez', 'quisieras', 'cambiar', 'quizás']\n",
      "['quizás', 'si', 'quizás', 'quisieras', 'cambiar', 'quizás']\n"
     ]
    }
   ],
   "source": [
    "# Logic\n",
    "# Modification: quizás instead of tal vez\n",
    "string = 'tal vez, si tal vez quisieras cambiar, quizás'\n",
    "# Keep only words\n",
    "string = re.sub(r'[^\\w\\sáéíóúüñ]', '', string)\n",
    "split = string.split()\n",
    "print(split)\n",
    "\n",
    "# Modify the split list\n",
    "for word in split:\n",
    "    if word == 'tal':\n",
    "        next_word_index = split.index(word) + 1 # Next word index\n",
    "        if split[next_word_index] == 'vez':\n",
    "            split[next_word_index - 1] = 'quizás' # Replace 'tal' for 'quizás'\n",
    "            del split[next_word_index] # Delete 'vez', that remains at the same position\n",
    "\n",
    "print(split)"
   ]
  },
  {
   "cell_type": "code",
   "execution_count": null,
   "id": "41ce57ef",
   "metadata": {},
   "outputs": [
    {
     "name": "stdout",
     "output_type": "stream",
     "text": [
      "tal si tal vez quisieras cambiar quizás\n",
      "quizás si quizás quisieras cambiar quizás tal\n"
     ]
    }
   ],
   "source": [
    "# Functional application\n",
    "def del_tal_vez(lyrics):\n",
    "    '''\n",
    "    The Spanish word \"tal vez\" can be interpreted as two separated words,\n",
    "    causing problems with further analysis like word frequencies.\n",
    "    The approach here consisted in replacing the term with a synonim: \"quizás\"\n",
    "    '''\n",
    "    split = lyrics.split()\n",
    "    # Modify the split list\n",
    "    for word in split:\n",
    "        if word == 'tal':\n",
    "            next_word_index = split.index(word) + 1 # Next word index\n",
    "            try: # Handle 'tal' as last word of the lyric\n",
    "                if split[next_word_index] == 'vez':\n",
    "                    split[next_word_index - 1] = 'quizás' # Replace 'tal' for 'quizás'\n",
    "                    del split[next_word_index] # Delete 'vez', that remains at the same position\n",
    "            except IndexError:\n",
    "                pass\n",
    "        \n",
    "    return ' '.join(split)\n",
    "\n",
    "string = 'tal si tal vez quisieras cambiar quizás'\n",
    "str2 = 'tal vez si tal vez quisieras cambiar quizás tal'\n",
    "print(del_tal_vez(string))\n",
    "print(del_tal_vez(str2))"
   ]
  },
  {
   "cell_type": "code",
   "execution_count": 63,
   "id": "60ba48dc",
   "metadata": {},
   "outputs": [
    {
     "name": "stdout",
     "output_type": "stream",
     "text": [
      "quédate momento así mires hacia podré aguantar clavas mirada hiela cuerpo pasado puedo hablar quizás pienses loco verdad aceptar explico siento dentro vas entender veas llorar nunca sentí tan solo ayer pronto entendí mientras callaba vida dijo gritos nunca nunca perdí explicaba amor cosa pronto forma natural lleno fuego fuerzas marchita tener principio llega final ahora quizás puedas entender tocas quema piel ahora quizás puedas entender vuelvas quieres ver lloro lloro entendí lloro nunca sentí tan solo ayer pronto entendí mientras callaba vida dijo gritos nunca nunca perdí explicaba amor cosa pronto forma natural lleno fuego fuerzas marchita tener principio llega final ahora quizás puedas entender tocas quema piel ahora quizás puedas entender vuelvas quieres ver lloro lloro entendí lloro lloro lloro entendí lloro\n"
     ]
    }
   ],
   "source": [
    "# Apply to the clean_lyrics column, filtering for Spanish only\n",
    "songs.loc[songs['language'] == 'Spanish', 'clean_lyrics'] = \\\n",
    "songs.loc[songs['language'] == 'Spanish', 'clean_lyrics'].apply(del_tal_vez)\n",
    "\n",
    "print(songs['clean_lyrics'].iloc[1])"
   ]
  },
  {
   "cell_type": "markdown",
   "id": "59d5f8fb",
   "metadata": {},
   "source": [
    "## Performing a specific fixing"
   ]
  },
  {
   "cell_type": "markdown",
   "id": "bbc413a0",
   "metadata": {},
   "source": [
    "The song \"En Esta No\" by Sin Bandera has a unique issue related to undesired information contained in lyrics. The word \"lyrics\" doesn't appear here and the function `after_lyrics` was not able to clean it, so a specific fixing was applied."
   ]
  },
  {
   "cell_type": "code",
   "execution_count": 64,
   "id": "ad7b9e85",
   "metadata": {},
   "outputs": [
    {
     "name": "stdout",
     "output_type": "stream",
     "text": [
      "song latin duo bandera formed mexican singer leonel garcía and argentinean singer noel schajris noel and leonel prepare launch february with songs ésta the first read more toca ser ama toca hacer juntos cama dar cuerda reloj coinciden universos podemos escribir verso describa amor toca caminar mundo viajar profundo cielo abrió historia nunca comenzó quizás vida pueda darte siento ahora quizás vida toque cuerpo contemplar aurora quizás vida cante piel misma voz quizás vida beba boca todas ansias quizás vida amor distante acorte distancias quizás vida luz quizás vida primero vida toca decirnos quiero cuidar dinero quedado cajón aunque duela aceptarlo quede ganas dar quema corazón historia nunca comenzó quizás vida pueda darte siento ahora quizás vida toque cuerpo contemplar aurora quizás vida cante piel misma voz quizás vida beba boca todas ansias quizás vida amor distante acorte distancias quizás vida luz quizás vida primero vida quizás vida luz quizás vida primero vida vida\n",
      "Modified:\n",
      "toca ser ama toca hacer juntos cama dar cuerda reloj coinciden universos podemos escribir verso describa amor toca caminar mundo viajar profundo cielo abrió historia nunca comenzó quizás vida pueda darte siento ahora quizás vida toque cuerpo contemplar aurora quizás vida cante piel misma voz quizás vida beba boca todas ansias quizás vida amor distante acorte distancias quizás vida luz quizás vida primero vida toca decirnos quiero cuidar dinero quedado cajón aunque duela aceptarlo quede ganas dar quema corazón historia nunca comenzó quizás vida pueda darte siento ahora quizás vida toque cuerpo contemplar aurora quizás vida cante piel misma voz quizás vida beba boca todas ansias quizás vida amor distante acorte distancias quizás vida luz quizás vida primero vida quizás vida luz quizás vida primero vida vida\n"
     ]
    }
   ],
   "source": [
    "# Song 'En Ésta No' at index 5 has information not related to the lyrics, so it will be removed\n",
    "print(songs.iloc[5, 7])\n",
    "\n",
    "lyrics = songs.iloc[5, 7].split()\n",
    "index_to_slice = lyrics.index('more')\n",
    "lyrics = lyrics[index_to_slice + 1:]\n",
    "updated_lyrics = ' '.join(lyrics)\n",
    "\n",
    "songs.iloc[5, 7] = updated_lyrics\n",
    "print('Modified:')\n",
    "print(songs.iloc[5, 7])"
   ]
  },
  {
   "cell_type": "markdown",
   "id": "69f93cd1",
   "metadata": {},
   "source": [
    "## Modification of the cleaning functions"
   ]
  },
  {
   "cell_type": "markdown",
   "id": "be44d008",
   "metadata": {},
   "source": [
    "After doing some research and looking for analysis techniques to apply on the clean data, I encountered an approach that consisted in measuring the ryme of the songs. It's simple and creates an score by comparing the last two letters of adjacent words, evaluating whether they're equal. In doing so, I realised that the words I should focus on were the ones at the end of a verse. The original data I retrieved kept a verse-like structure by using newlines (`\"\\n\"`), so I modified the previous `clean_lyrics` function to keep them.\n",
    "\n",
    "A new function to remove unnecessary information was also created, derived from `after_lyrics`, because I noted that it appeared in the first element of the split done with newlines instead of spaces."
   ]
  },
  {
   "cell_type": "code",
   "execution_count": 65,
   "id": "c0f2e46e",
   "metadata": {},
   "outputs": [
    {
     "name": "stdout",
     "output_type": "stream",
     "text": [
      "4 ContributorsMientes Tan Bien Lyrics\n",
      "\n",
      "Que te quedarás conmigo una vida entera\n",
      "Que contigo: adiós inviernos, solo primavera\n",
      "Que las olas son de magia y no de agua salada\n",
      "Yo te creo todo y tú no me das nada, tú no me das nada\n",
      "\n",
      "Que si sigo tu camino, llegaré hasta el cielo\n",
      "Tú me mientes en la cara y yo me vuelvo ciego\n",
      "Yo me trago tus palabras, tú juegas un juego\n",
      "Y me brilla el mundo cuando dices \"luego\"\n",
      "Cuando dices \"luego\"\n",
      "\n",
      "Cuando dices: \"Siento, siento que eres todo\"\n",
      "Cuando dices: \"Vida, yo estaré contigo\"\n",
      "Tomas de mi mano, y por dentro lloro\n",
      "Aunque sea mentira, me haces sentir vivo\n",
      "Aunque es falso el aire, siento que respiro\n",
      "\n",
      "Mientes tan bien\n",
      "Que me sabe a verdad todo lo que me das\n",
      "Y ya te estoy amando\n",
      "Mientes tan bien\n",
      "Que he llegado a imaginar que en mi amor llenas tu piel\n",
      "Y aunque todo es de papel, mhm, mientes tan bien\n",
      "\n",
      "Cuando dices: \"Siento, siento que eres todo\"\n",
      "Cuando dices: \"Vida, yo estaré contigo\"\n",
      "Tomas de mi mano y por dentro lloro\n",
      "Aunque sea mentira, me haces sentir vivo\n",
      "Aunque es falso el aire, siento que respiro\n",
      "\n",
      "Mientes tan bien\n",
      "Que me sabe a verdad todo lo que me das\n",
      "Y ya te estoy amando\n",
      "Mientes tan bien\n",
      "Que he llegado a imaginar que en mi amor llenas tu piel\n",
      "Y aunque todo es de papel, mientes tan bien\n",
      "\n",
      "Y aunque todo es de papel, mientes, lo sé\n"
     ]
    }
   ],
   "source": [
    "# Unprocessed lyrics\n",
    "raw = songs['lyrics'].iloc[2]\n",
    "print(raw)"
   ]
  },
  {
   "cell_type": "code",
   "execution_count": null,
   "id": "b2f0843b",
   "metadata": {},
   "outputs": [
    {
     "name": "stdout",
     "output_type": "stream",
     "text": [
      "que te quedarás conmigo una vida entera\n",
      "que contigo adiós inviernos solo primavera\n",
      "que las olas son de magia y no de agua salada\n",
      "yo te creo todo y tú no me das nada tú no me das nada\n",
      "que si sigo tu camino llegaré hasta el cielo\n",
      "tú me mientes en cara y yo me vuelvo ciego\n",
      "yo me trago tus palabras tú juegas un juego\n",
      "y me brilla el mundo cuando dices luego\n",
      "cuando dices luego\n",
      "cuando dices siento siento que eres todo\n",
      "cuando dices vida yo estaré contigo\n",
      "tomas de mi mano y por dentro lloro\n",
      "aunque sea mentira me haces sentir vivo\n",
      "aunque es falso el aire siento que respiro\n",
      "mientes tan bien\n",
      "que me sabe a verdad todo lo que me das\n",
      "y ya te estoy amando\n",
      "mientes tan bien\n",
      "que he llegado a imaginar que en mi amor llenas tu piel\n",
      "y aunque todo es de papel mhm mientes tan bien\n",
      "cuando dices siento siento que eres todo\n",
      "cuando dices vida yo estaré contigo\n",
      "tomas de mi mano y por dentro lloro\n",
      "aunque sea mentira me haces sentir vivo\n",
      "aunque es falso el aire siento que respiro\n",
      "mientes tan bien\n",
      "que me sabe a verdad todo lo que me das\n",
      "y ya te estoy amando\n",
      "mientes tan bien\n",
      "que he llegado a imaginar que en mi amor llenas tu piel\n",
      "y aunque todo es de papel mientes tan bien\n",
      "y aunque todo es de papel mientes lo sé\n"
     ]
    }
   ],
   "source": [
    "# A different cleaning, keeping all the words and newlines\n",
    "def clean_modified(text):\n",
    "    # Remove expressions similar to 'oh'\n",
    "    text = re.sub(r'\\b(?:a+h+|o+h+||u+h+|e+h+|mm+|ja+|la+|na+)\\b', '', text.lower())\n",
    "    # Keep only letters, spaces and new lines\n",
    "    text = re.sub(r\"[^\\wáéíóúüñ'\\n]\", ' ', text)\n",
    "    # Collapse multiple spaces into one\n",
    "    text = re.sub(r' +', ' ', text)\n",
    "    \n",
    "    return '\\n'.join([line.strip() for line in text.split('\\n') if line.strip()])\n",
    "\n",
    "# A function to delete unnecessary information from lyrics, similar to after_lyrics\n",
    "def after_lyrics_modified(text):\n",
    "    try:\n",
    "        split = text.split('\\n') # Split line by line, not word by word\n",
    "        del split[0] # Delete the first element: where not needed data is\n",
    "        return '\\n'.join(split)\n",
    "    except:\n",
    "        return text\n",
    "\n",
    "# Ckeck the result: working as expected\n",
    "print(after_lyrics_modified(clean_modified(raw)))"
   ]
  },
  {
   "cell_type": "code",
   "execution_count": null,
   "id": "29b27aa9",
   "metadata": {},
   "outputs": [
    {
     "name": "stdout",
     "output_type": "stream",
     "text": [
      "4 contributorssuelta mi mano lyrics\n",
      "no no es necesario que lo entienda\n",
      "porque nunca le ha servido razón al corazón el corazón no piensa\n",
      "no mi vida para qué te esfuerzas no me tienes que explicar\n",
      "siempre amaré tu libertad por mucho que eso duela\n",
      "y sí entiendo que quieres hablar\n",
      "que a veces necesitas saber de mí\n",
      "pero no sé si quiera saber de ti\n",
      "vivir así seguir así pensando en ti\n",
      "suelta mi mano ya por favor\n",
      "entiende que me tengo que ir\n",
      "si ya no sientes más este amor\n",
      "no tengo nada más que decir\n",
      "no digas nada ya por favor\n",
      "te entiendo pero entiéndeme a mí\n",
      "cada palabra aumenta el dolor\n",
      "y una lágrima quiere salir\n",
      "y por favor no me detengas\n",
      "siempre encuentro manera de seguir y de vivir aunque ahora no tenga\n",
      "y no mi vida no vale pena\n",
      "para qué quieres llamar si el que era yo ya no va a estar\n",
      "esta es última cena\n",
      "y sí entiendo que quieres hablar\n",
      "que a veces necesitas saber de mí\n",
      "pero no sé si quiera saber de ti\n",
      "vivir así seguir así pensando en ti\n",
      "suelta mi mano ya por favor\n",
      "entiende que me tengo que ir\n",
      "si ya no sientes más este amor\n",
      "no tengo nada más que decir\n",
      "no digas nada ya por favor\n",
      "te entiendo pero entiéndeme a mí\n",
      "cada palabra aumenta el dolor\n",
      "y una lágrima quiere salir\n",
      "suelta mi mano ya por favor\n",
      "entiende que me tengo que ir\n",
      "si ya no sientes más este amor\n",
      "no tengo nada más que decir\n",
      "no digas nada ya por favor\n",
      "te entiendo pero entiéndeme a mí\n",
      "cada palabra aumenta el dolor\n",
      "y una lágrima quiere salir\n"
     ]
    }
   ],
   "source": [
    "# clean_modified application\n",
    "check = songs['lyrics'].iloc[6]\n",
    "print(clean_modified(check))"
   ]
  },
  {
   "cell_type": "markdown",
   "id": "e56b14de",
   "metadata": {},
   "source": [
    "The final result was suitable to perform the analysis of rhyme. I also decided to keep all the words from the original lyrics by removing the code that executed the stopwords deleting in `clean_modified` because of the rhyme too. However, the first cleaning performed by `clean_lyrics` and the original lyrics were kept too in the final dataset saved as `.csv`."
   ]
  },
  {
   "cell_type": "code",
   "execution_count": 68,
   "id": "e4fb1af7",
   "metadata": {},
   "outputs": [
    {
     "name": "stdout",
     "output_type": "stream",
     "text": [
      "en esta no\n",
      "no me toca ser el que te ama\n",
      "ni nos toca hacer juntos cama\n",
      "ni dar cuerda a este reloj\n",
      "en esta no\n",
      "no coinciden nuestros universos\n",
      "ni podemos escribir un verso\n",
      "que describa nuestro amor\n",
      "en esta no\n",
      "no nos toca caminar el mundo\n",
      "ni viajar hasta lo más profundo\n",
      "de este cielo que se abrió\n",
      "en esta no\n",
      "nuestra historia nunca comenzó\n",
      "tal vez en otra vida\n",
      "pueda darte todo lo que siento ahora\n",
      "tal vez en otra vida\n",
      "me toque en tu cuerpo contemplar aurora\n",
      "tal vez en otra vida seamos tú y yo\n",
      "y cante nuestra piel con una misma voz\n",
      "tal vez en otra vida\n",
      "beba de tu boca todas esas ansias\n",
      "tal vez en otra vida\n",
      "este amor distante acorte las distancias\n",
      "tal vez en otra vida se nos dé luz\n",
      "tal vez en otra vida seas primero tú\n",
      "en esta vida no\n",
      "en esta no\n",
      "no nos toca decirnos te quiero\n",
      "ni cuidar lo poco de dinero\n",
      "que ha quedado en el cajón\n",
      "en esta no\n",
      "aunque duela tanto aceptarlo\n",
      "y me quede con ganas de dar\n",
      "lo que me quema el corazón\n",
      "en esta no\n",
      "nuestra historia nunca comenzó\n",
      "tal vez en otra vida\n",
      "pueda darte todo lo que siento ahora\n",
      "tal vez en otra vida\n",
      "me toque en tu cuerpo contemplar aurora\n",
      "tal vez en otra vida seamos tú y yo\n",
      "y cante nuestra piel con una misma voz\n",
      "tal vez en otra vida\n",
      "beba de tu boca todas esas ansias\n",
      "tal vez en otra vida\n",
      "este amor distante acorte las distancias\n",
      "tal vez en otra vida se nos dé luz\n",
      "tal vez en otra vida seas primero tú\n",
      "en esta vida no\n",
      "tal vez en otra vida se nos dé luz\n",
      "tal vez en otra vida seas primero tú\n",
      "en esta vida no\n",
      "en esta vida no\n"
     ]
    }
   ],
   "source": [
    "# Applying it to the dataset\n",
    "songs['lyrics'] = songs['lyrics'].apply(clean_modified)\n",
    "# Remove the titles and words before 'lyrics' too\n",
    "songs['lyrics'] = songs['lyrics'].apply(after_lyrics_modified)\n",
    "\n",
    "# Handle the special observation\n",
    "lyrics = songs.iloc[5, 5].split('\\n')\n",
    "lyrics = lyrics[1:] # Because the last cleaning already removed one element\n",
    "updated_lyrics = '\\n'.join(lyrics)\n",
    "\n",
    "songs.iloc[5, 5] = updated_lyrics\n",
    "print(songs.iloc[5, 5])"
   ]
  },
  {
   "cell_type": "code",
   "execution_count": 69,
   "id": "df0d4718",
   "metadata": {},
   "outputs": [],
   "source": [
    "# Save the final dataset\n",
    "songs.to_csv('data/songs.csv', index=False)"
   ]
  }
 ],
 "metadata": {
  "kernelspec": {
   "display_name": "data_science",
   "language": "python",
   "name": "python3"
  },
  "language_info": {
   "codemirror_mode": {
    "name": "ipython",
    "version": 3
   },
   "file_extension": ".py",
   "mimetype": "text/x-python",
   "name": "python",
   "nbconvert_exporter": "python",
   "pygments_lexer": "ipython3",
   "version": "3.11.9"
  }
 },
 "nbformat": 4,
 "nbformat_minor": 5
}
