{
 "cells": [
  {
   "cell_type": "code",
   "execution_count": 1,
   "id": "41525a7a",
   "metadata": {},
   "outputs": [],
   "source": [
    "import json\n",
    "from pathlib import Path\n",
    "import lyricsgenius\n",
    "\n",
    "def load_config():\n",
    "    # Get the path to config.json in the same directory\n",
    "    config_path = Path('config.json')\n",
    "    \n",
    "    with open(config_path, 'r') as f:\n",
    "        config = json.load(f)\n",
    "    return config['genius']\n",
    "\n",
    "creds = load_config()"
   ]
  },
  {
   "cell_type": "code",
   "execution_count": 2,
   "id": "e6544ece",
   "metadata": {},
   "outputs": [
    {
     "name": "stdout",
     "output_type": "stream",
     "text": [
      "Sin Bandera\n"
     ]
    }
   ],
   "source": [
    "# Retrieve a song lyrics\n",
    "genius = lyricsgenius.Genius(creds['access_token'], verbose=False, remove_section_headers=True)\n",
    "artist = genius.search_artist('Sin Bandera', max_songs=1)\n",
    "print(artist.name)"
   ]
  },
  {
   "cell_type": "code",
   "execution_count": 3,
   "id": "e110cf9b",
   "metadata": {},
   "outputs": [
    {
     "name": "stdout",
     "output_type": "stream",
     "text": [
      "Loveless\n"
     ]
    }
   ],
   "source": [
    "# Retrieve a song lyrics\n",
    "genius = lyricsgenius.Genius(creds['access_token'], verbose=False, remove_section_headers=True)\n",
    "artist = genius.search_artist('Loveless', max_songs=1)\n",
    "print(artist.name)"
   ]
  },
  {
   "cell_type": "code",
   "execution_count": null,
   "id": "370bbc39",
   "metadata": {},
   "outputs": [],
   "source": [
    "# First code version (not run): poor to handle missing keys and None values\n",
    "import pandas as pd\n",
    "\n",
    "def get_lyrics_with_api(artist, max_songs=15):\n",
    "    genius = lyricsgenius.Genius(creds['access_token'], verbose=False, remove_section_headers=True, timeout=15)\n",
    "    artist = genius.search_artist(artist, max_songs=max_songs)\n",
    "    result = [song.to_dict() for song in artist.songs]\n",
    "    \n",
    "    data = []\n",
    "    for i in range(max_songs):\n",
    "        data.append({\n",
    "            'artist': result[i]['primary_artist_names'],\n",
    "            'title': result[i]['title'],\n",
    "            'release_date': result[i]['release_date'],\n",
    "            'pageviews': result[i]['stats']['pageviews'],\n",
    "            'album': result[i]['album']['name'],\n",
    "            'lyrics': result[i]['lyrics']\n",
    "        })\n",
    "    \n",
    "    return pd.DataFrame(data)"
   ]
  },
  {
   "cell_type": "code",
   "execution_count": null,
   "id": "cbdb9047",
   "metadata": {},
   "outputs": [],
   "source": [
    "# Refined version\n",
    "import pandas as pd\n",
    "\n",
    "def get_lyrics_with_api(artist, max_songs=10):\n",
    "    \n",
    "    genius = lyricsgenius.Genius(creds['access_token'],\n",
    "                                 verbose=False,\n",
    "                                 remove_section_headers=True,\n",
    "                                 timeout=15)\n",
    "    \n",
    "    artist = genius.search_artist(artist, max_songs=max_songs)\n",
    "    \n",
    "    result = [song.to_dict() for song in artist.songs] if artist else []\n",
    "    \n",
    "    data = []\n",
    "    # Slicing never creates 'empty' spaces, so the len of result remains\n",
    "    # For instance: len(result) = 3 and max_songs = 4 -> result[:4] will have 3 elements\n",
    "    for song in result[:max_songs]:\n",
    "        data.append({\n",
    "            'artist': (song.get('primary_artist', {}) or {}).get('name', 'Unknown'),\n",
    "            'title': song.get('title', 'Untitled'),\n",
    "            'release_date': song.get('release_date', 'No date'),\n",
    "            'pageviews': (song.get('stats', {}) or {}).get('pageviews', 0),\n",
    "            'album': (song.get('album', {}) or {}).get('name', 'No album'),\n",
    "            'lyrics': song.get('lyrics', 'No lyrics available')\n",
    "        })\n",
    "    \n",
    "    return pd.DataFrame(data)\n",
    "\n",
    "# Get the dataframes\n",
    "sin_bandera = get_lyrics_with_api('Sin Bandera')\n",
    "loveless = get_lyrics_with_api('Loveless')"
   ]
  },
  {
   "cell_type": "code",
   "execution_count": 3,
   "id": "82d17302",
   "metadata": {},
   "outputs": [
    {
     "name": "stdout",
     "output_type": "stream",
     "text": [
      "<class 'pandas.core.frame.DataFrame'>\n",
      "RangeIndex: 10 entries, 0 to 9\n",
      "Data columns (total 6 columns):\n",
      " #   Column        Non-Null Count  Dtype \n",
      "---  ------        --------------  ----- \n",
      " 0   artist        10 non-null     object\n",
      " 1   title         10 non-null     object\n",
      " 2   release_date  10 non-null     object\n",
      " 3   pageviews     10 non-null     int64 \n",
      " 4   album         10 non-null     object\n",
      " 5   lyrics        10 non-null     object\n",
      "dtypes: int64(1), object(5)\n",
      "memory usage: 612.0+ bytes\n",
      "None\n"
     ]
    }
   ],
   "source": [
    "# Inspection\n",
    "print(sin_bandera.info())"
   ]
  },
  {
   "cell_type": "code",
   "execution_count": 4,
   "id": "2df11b47",
   "metadata": {},
   "outputs": [
    {
     "name": "stdout",
     "output_type": "stream",
     "text": [
      "<class 'pandas.core.frame.DataFrame'>\n",
      "RangeIndex: 10 entries, 0 to 9\n",
      "Data columns (total 6 columns):\n",
      " #   Column        Non-Null Count  Dtype \n",
      "---  ------        --------------  ----- \n",
      " 0   artist        10 non-null     object\n",
      " 1   title         10 non-null     object\n",
      " 2   release_date  10 non-null     object\n",
      " 3   pageviews     10 non-null     int64 \n",
      " 4   album         10 non-null     object\n",
      " 5   lyrics        10 non-null     object\n",
      "dtypes: int64(1), object(5)\n",
      "memory usage: 612.0+ bytes\n",
      "None\n"
     ]
    }
   ],
   "source": [
    "print(loveless.info())"
   ]
  },
  {
   "cell_type": "code",
   "execution_count": 5,
   "id": "7640ffc3",
   "metadata": {},
   "outputs": [],
   "source": [
    "# Save the data\n",
    "sin_bandera.to_csv('data/sin_bandera.csv', index=False)\n",
    "loveless.to_csv('data/loveless.csv', index=False)"
   ]
  }
 ],
 "metadata": {
  "kernelspec": {
   "display_name": "data_science",
   "language": "python",
   "name": "python3"
  },
  "language_info": {
   "codemirror_mode": {
    "name": "ipython",
    "version": 3
   },
   "file_extension": ".py",
   "mimetype": "text/x-python",
   "name": "python",
   "nbconvert_exporter": "python",
   "pygments_lexer": "ipython3",
   "version": "3.11.9"
  }
 },
 "nbformat": 4,
 "nbformat_minor": 5
}
